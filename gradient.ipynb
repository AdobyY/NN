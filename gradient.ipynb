{
 "cells": [
  {
   "cell_type": "code",
   "execution_count": 1,
   "metadata": {},
   "outputs": [],
   "source": [
    "import numpy as np\n",
    "import pandas as pd\n",
    "import statsmodels.api as sm\n",
    "import matplotlib.pyplot as plt\n",
    "from sklearn.preprocessing import StandardScaler"
   ]
  },
  {
   "cell_type": "code",
   "execution_count": 2,
   "metadata": {},
   "outputs": [],
   "source": [
    "df = sm.datasets.macrodata.load_pandas().data\n",
    "\n",
    "# Функція для створення дати з року та кварталу\n",
    "def create_date(row):\n",
    "    return pd.Timestamp(year=int(row['year']), month=int(row['quarter'] * 3 - 2), day=1)\n",
    "\n",
    "df['date'] = df.apply(create_date, axis=1)\n",
    "year = df.drop_duplicates(\"year\")\n",
    "year = df\n",
    "\n",
    "X = df[['realgdp', 'realcons', 'realinv', 'realgovt',\n",
    "        'realdpi', 'm1', 'tbilrate', 'unemp', 'pop', 'infl', 'realint']].values\n",
    "# X = df[['realgdp', 'realcons', 'realinv', 'realgovt']].values \n",
    "y = df['cpi'].values  # Цільова змінна\n",
    "\n",
    "y = y.reshape(-1, 1)"
   ]
  },
  {
   "cell_type": "code",
   "execution_count": 10,
   "metadata": {},
   "outputs": [
    {
     "name": "stdout",
     "output_type": "stream",
     "text": [
      "Epoch 0: Loss = 14646.476315780874\n"
     ]
    },
    {
     "name": "stderr",
     "output_type": "stream",
     "text": [
      "c:\\Users\\b.yarinko\\Desktop\\Code\\NN\\.venv\\lib\\site-packages\\numpy\\_core\\fromnumeric.py:86: RuntimeWarning: overflow encountered in reduce\n",
      "  return ufunc.reduce(obj, axis, dtype, out, **passkwargs)\n"
     ]
    },
    {
     "name": "stdout",
     "output_type": "stream",
     "text": [
      "Epoch 100: Loss = 14568.37250673399\n",
      "Epoch 200: Loss = 14568.37250673399\n",
      "Epoch 300: Loss = 14568.37250673399\n",
      "Epoch 400: Loss = 14568.37250673399\n",
      "Epoch 500: Loss = 14568.37250673399\n",
      "Epoch 600: Loss = 14568.37250673399\n",
      "Epoch 700: Loss = 14568.37250673399\n",
      "Epoch 800: Loss = 14568.37250673399\n",
      "Epoch 900: Loss = 14568.37250673399\n"
     ]
    },
    {
     "data": {
      "text/plain": [
       "{'best_fitness': np.float64(14568.37250673399)}"
      ]
     },
     "execution_count": 10,
     "metadata": {},
     "output_type": "execute_result"
    }
   ],
   "source": [
    "from model import NeuralNetwork\n",
    "from layers import DenseLayer\n",
    "from optimizers import GeneticOptimizer, GD\n",
    "from activations import *\n",
    "\n",
    "\n",
    "model = NeuralNetwork(X.shape[1])\n",
    "model.add_layer(DenseLayer(num_inputs=X.shape[1], num_neurons=8, activation_func=Tanh()))\n",
    "model.add_layer(DenseLayer(num_inputs=8, num_neurons=16, activation_func=ReLU()))\n",
    "model.add_layer(DenseLayer(num_inputs=16, num_neurons=1, activation_func=Sigmoid()))\n",
    "\n",
    "# model.load_weights(\"model_weights.pkl\")\n",
    "\n",
    "# Навчання моделі\n",
    "model.fit(X, y, epochs=1000, optimizer=GD(learning_rate=0.1))\n"
   ]
  },
  {
   "cell_type": "code",
   "execution_count": null,
   "metadata": {},
   "outputs": [],
   "source": []
  }
 ],
 "metadata": {
  "kernelspec": {
   "display_name": ".venv",
   "language": "python",
   "name": "python3"
  },
  "language_info": {
   "codemirror_mode": {
    "name": "ipython",
    "version": 3
   },
   "file_extension": ".py",
   "mimetype": "text/x-python",
   "name": "python",
   "nbconvert_exporter": "python",
   "pygments_lexer": "ipython3",
   "version": "3.9.13"
  }
 },
 "nbformat": 4,
 "nbformat_minor": 2
}
