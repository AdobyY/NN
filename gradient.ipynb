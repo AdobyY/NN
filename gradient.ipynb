{
 "cells": [
  {
   "cell_type": "code",
   "execution_count": 1,
   "metadata": {},
   "outputs": [],
   "source": [
    "import numpy as np\n",
    "import pandas as pd\n",
    "import statsmodels.api as sm\n",
    "import matplotlib.pyplot as plt\n",
    "from sklearn.preprocessing import StandardScaler"
   ]
  },
  {
   "cell_type": "code",
   "execution_count": 6,
   "metadata": {},
   "outputs": [],
   "source": [
    "df = sm.datasets.macrodata.load_pandas().data\n",
    "\n",
    "# Функція для створення дати з року та кварталу\n",
    "def create_date(row):\n",
    "    return pd.Timestamp(year=int(row['year']), month=int(row['quarter'] * 3 - 2), day=1)\n",
    "\n",
    "df['date'] = df.apply(create_date, axis=1)\n",
    "year = df.drop_duplicates(\"year\")\n",
    "year = df\n",
    "\n",
    "X = df[['realgdp', 'realcons', 'realinv', 'realgovt',\n",
    "        'realdpi', 'm1', 'tbilrate', 'unemp', 'pop', 'infl', 'realint']].values\n",
    "# X = df[['realgdp', 'realcons', 'realinv', 'realgovt']].values \n",
    "y = df['cpi'].values  # Цільова змінна\n",
    "\n",
    "y = y.reshape(-1, 1)"
   ]
  },
  {
   "cell_type": "code",
   "execution_count": 7,
   "metadata": {},
   "outputs": [
    {
     "ename": "ValueError",
     "evalue": "operands could not be broadcast together with shapes (1,8) (203,203) (1,8) ",
     "output_type": "error",
     "traceback": [
      "\u001b[1;31m---------------------------------------------------------------------------\u001b[0m",
      "\u001b[1;31mValueError\u001b[0m                                Traceback (most recent call last)",
      "Cell \u001b[1;32mIn[7], line 15\u001b[0m\n\u001b[0;32m     12\u001b[0m optimizer \u001b[38;5;241m=\u001b[39m GDOptimizer(learning_rate\u001b[38;5;241m=\u001b[39m\u001b[38;5;241m0.01\u001b[39m)\n\u001b[0;32m     14\u001b[0m \u001b[38;5;66;03m# Навчання моделі\u001b[39;00m\n\u001b[1;32m---> 15\u001b[0m \u001b[43mmodel\u001b[49m\u001b[38;5;241;43m.\u001b[39;49m\u001b[43mfit\u001b[49m\u001b[43m(\u001b[49m\u001b[43mX\u001b[49m\u001b[43m,\u001b[49m\u001b[43m \u001b[49m\u001b[43my\u001b[49m\u001b[43m,\u001b[49m\u001b[43m \u001b[49m\u001b[43mepochs\u001b[49m\u001b[38;5;241;43m=\u001b[39;49m\u001b[38;5;241;43m1000\u001b[39;49m\u001b[43m,\u001b[49m\u001b[43m \u001b[49m\u001b[43moptimizer\u001b[49m\u001b[38;5;241;43m=\u001b[39;49m\u001b[43moptimizer\u001b[49m\u001b[43m)\u001b[49m\n",
      "File \u001b[1;32mc:\\Users\\b.yarinko\\Desktop\\Code\\NN\\model.py:23\u001b[0m, in \u001b[0;36mNeuralNetwork.fit\u001b[1;34m(self, X, y, epochs, optimizer)\u001b[0m\n\u001b[0;32m     22\u001b[0m \u001b[38;5;28;01mdef\u001b[39;00m \u001b[38;5;21mfit\u001b[39m(\u001b[38;5;28mself\u001b[39m, X, y, epochs, optimizer):\n\u001b[1;32m---> 23\u001b[0m     best_network, best_fitness \u001b[38;5;241m=\u001b[39m \u001b[43moptimizer\u001b[49m\u001b[38;5;241;43m.\u001b[39;49m\u001b[43moptimize\u001b[49m\u001b[43m(\u001b[49m\u001b[43mX\u001b[49m\u001b[43m,\u001b[49m\u001b[43m \u001b[49m\u001b[43my\u001b[49m\u001b[43m,\u001b[49m\u001b[43m \u001b[49m\u001b[38;5;28;43mself\u001b[39;49m\u001b[43m,\u001b[49m\u001b[43m \u001b[49m\u001b[43mepochs\u001b[49m\u001b[43m)\u001b[49m\n\u001b[0;32m     24\u001b[0m     \u001b[38;5;28mself\u001b[39m\u001b[38;5;241m.\u001b[39mlayers \u001b[38;5;241m=\u001b[39m best_network\u001b[38;5;241m.\u001b[39mlayers\n\u001b[0;32m     25\u001b[0m     \u001b[38;5;28;01mreturn\u001b[39;00m {\u001b[38;5;124m'\u001b[39m\u001b[38;5;124mbest_fitness\u001b[39m\u001b[38;5;124m'\u001b[39m: best_fitness}\n",
      "File \u001b[1;32mc:\\Users\\b.yarinko\\Desktop\\Code\\NN\\optimizers.py:103\u001b[0m, in \u001b[0;36mGDOptimizer.optimize\u001b[1;34m(self, X, y, network, epochs)\u001b[0m\n\u001b[0;32m    100\u001b[0m     grad_b \u001b[38;5;241m=\u001b[39m error\n\u001b[0;32m    102\u001b[0m     \u001b[38;5;66;03m# Оновлення шару\u001b[39;00m\n\u001b[1;32m--> 103\u001b[0m     \u001b[38;5;28;43mself\u001b[39;49m\u001b[38;5;241;43m.\u001b[39;49m\u001b[43mupdate\u001b[49m\u001b[43m(\u001b[49m\u001b[43mlayer\u001b[49m\u001b[43m,\u001b[49m\u001b[43m \u001b[49m\u001b[43mgrad_w\u001b[49m\u001b[43m,\u001b[49m\u001b[43m \u001b[49m\u001b[43mgrad_b\u001b[49m\u001b[43m)\u001b[49m\n\u001b[0;32m    105\u001b[0m \u001b[38;5;66;03m# Обчислення функції придатності (мінус середньоквадратична похибка)\u001b[39;00m\n\u001b[0;32m    106\u001b[0m current_fitness \u001b[38;5;241m=\u001b[39m \u001b[38;5;241m-\u001b[39mnp\u001b[38;5;241m.\u001b[39mmean(error \u001b[38;5;241m*\u001b[39m\u001b[38;5;241m*\u001b[39m \u001b[38;5;241m2\u001b[39m)\n",
      "File \u001b[1;32mc:\\Users\\b.yarinko\\Desktop\\Code\\NN\\optimizers.py:80\u001b[0m, in \u001b[0;36mGDOptimizer.update\u001b[1;34m(self, layer, grad_w, grad_b)\u001b[0m\n\u001b[0;32m     79\u001b[0m \u001b[38;5;28;01mdef\u001b[39;00m \u001b[38;5;21mupdate\u001b[39m(\u001b[38;5;28mself\u001b[39m, layer, grad_w, grad_b):\n\u001b[1;32m---> 80\u001b[0m     layer\u001b[38;5;241m.\u001b[39mweights \u001b[38;5;241m-\u001b[39m\u001b[38;5;241m=\u001b[39m \u001b[38;5;28mself\u001b[39m\u001b[38;5;241m.\u001b[39mlearning_rate \u001b[38;5;241m*\u001b[39m grad_w\n\u001b[0;32m     81\u001b[0m     layer\u001b[38;5;241m.\u001b[39mbiases \u001b[38;5;241m-\u001b[39m\u001b[38;5;241m=\u001b[39m \u001b[38;5;28mself\u001b[39m\u001b[38;5;241m.\u001b[39mlearning_rate \u001b[38;5;241m*\u001b[39m grad_b\n",
      "\u001b[1;31mValueError\u001b[0m: operands could not be broadcast together with shapes (1,8) (203,203) (1,8) "
     ]
    }
   ],
   "source": [
    "from model import NeuralNetwork\n",
    "from layers import DenseLayer\n",
    "from optimizers import GeneticOptimizer, GDOptimizer\n",
    "from activations import ReLU\n",
    "\n",
    "\n",
    "model = NeuralNetwork(X.shape[1])\n",
    "model.add_layer(DenseLayer(num_inputs=X.shape[1], num_neurons=8, activation_func=ReLU()))\n",
    "model.add_layer(DenseLayer(num_inputs=8, num_neurons=1, activation_func=ReLU()))\n",
    "\n",
    "# Налаштування оптимізатора\n",
    "optimizer = GDOptimizer(learning_rate=0.01)\n",
    "\n",
    "# Навчання моделі\n",
    "model.fit(X, y, epochs=1000, optimizer=optimizer)\n"
   ]
  },
  {
   "cell_type": "code",
   "execution_count": null,
   "metadata": {},
   "outputs": [],
   "source": []
  }
 ],
 "metadata": {
  "kernelspec": {
   "display_name": ".venv",
   "language": "python",
   "name": "python3"
  },
  "language_info": {
   "codemirror_mode": {
    "name": "ipython",
    "version": 3
   },
   "file_extension": ".py",
   "mimetype": "text/x-python",
   "name": "python",
   "nbconvert_exporter": "python",
   "pygments_lexer": "ipython3",
   "version": "3.9.13"
  }
 },
 "nbformat": 4,
 "nbformat_minor": 2
}
